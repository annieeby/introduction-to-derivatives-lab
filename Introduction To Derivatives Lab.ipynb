{
 "cells": [
  {
   "cell_type": "code",
   "execution_count": 77,
   "metadata": {},
   "outputs": [],
   "source": [
    "four_x_cubed_plus_eleven_x_squared = [(4,2), (11,2)]"
   ]
  },
  {
   "cell_type": "code",
   "execution_count": 78,
   "metadata": {},
   "outputs": [],
   "source": [
    "def term_output(term, input_value):\n",
    "    return term[0]*(input_value**term[1])"
   ]
  },
  {
   "cell_type": "code",
   "execution_count": 79,
   "metadata": {},
   "outputs": [
    {
     "data": {
      "text/plain": [
       "12"
      ]
     },
     "execution_count": 79,
     "metadata": {},
     "output_type": "execute_result"
    }
   ],
   "source": [
    "term_output((3, 2), 2) # 12"
   ]
  },
  {
   "cell_type": "code",
   "execution_count": 80,
   "metadata": {},
   "outputs": [
    {
     "data": {
      "text/plain": [
       "24"
      ]
     },
     "execution_count": 80,
     "metadata": {},
     "output_type": "execute_result"
    }
   ],
   "source": [
    "term_output((3,3), 2)"
   ]
  },
  {
   "cell_type": "code",
   "execution_count": 81,
   "metadata": {},
   "outputs": [],
   "source": [
    "def output_at(list_of_terms, x_value):\n",
    "    return list_of_terms[0][0]*(x_value**list_of_terms[0][1]) + list_of_terms[1][0]*(x_value**list_of_terms[1][1])"
   ]
  },
  {
   "cell_type": "code",
   "execution_count": 82,
   "metadata": {},
   "outputs": [
    {
     "data": {
      "text/plain": [
       "1"
      ]
     },
     "execution_count": 82,
     "metadata": {},
     "output_type": "execute_result"
    }
   ],
   "source": [
    "three_x_squared_minus_eleven = [(3, 2), (-11, 0)]\n",
    "output_at(three_x_squared_minus_eleven, 2) # 1 \n"
   ]
  },
  {
   "cell_type": "code",
   "execution_count": 83,
   "metadata": {},
   "outputs": [
    {
     "data": {
      "text/plain": [
       "16"
      ]
     },
     "execution_count": 83,
     "metadata": {},
     "output_type": "execute_result"
    }
   ],
   "source": [
    "output_at(three_x_squared_minus_eleven, 3) # 16"
   ]
  },
  {
   "cell_type": "code",
   "execution_count": 84,
   "metadata": {},
   "outputs": [
    {
     "data": {
      "text/html": [
       "<script>requirejs.config({paths: { 'plotly': ['https://cdn.plot.ly/plotly-latest.min']},});if(!window.Plotly) {{require(['plotly'],function(plotly) {window.Plotly=plotly;});}}</script>"
      ],
      "text/vnd.plotly.v1+html": [
       "<script>requirejs.config({paths: { 'plotly': ['https://cdn.plot.ly/plotly-latest.min']},});if(!window.Plotly) {{require(['plotly'],function(plotly) {window.Plotly=plotly;});}}</script>"
      ]
     },
     "metadata": {},
     "output_type": "display_data"
    },
    {
     "data": {
      "application/vnd.plotly.v1+json": {
       "data": [
        {
         "mode": "lines",
         "name": "data",
         "text": [],
         "type": "scatter",
         "uid": "4b5eead2-d722-11e8-9da7-34159e1c7ef8",
         "x": [
          -30,
          -29,
          -28,
          -27,
          -26,
          -25,
          -24,
          -23,
          -22,
          -21,
          -20,
          -19,
          -18,
          -17,
          -16,
          -15,
          -14,
          -13,
          -12,
          -11,
          -10,
          -9,
          -8,
          -7,
          -6,
          -5,
          -4,
          -3,
          -2,
          -1,
          0,
          1,
          2,
          3,
          4,
          5,
          6,
          7,
          8,
          9,
          10,
          11,
          12,
          13,
          14,
          15,
          16,
          17,
          18,
          19,
          20,
          21,
          22,
          23,
          24,
          25,
          26,
          27,
          28,
          29
         ],
         "y": [
          2689,
          2512,
          2341,
          2176,
          2017,
          1864,
          1717,
          1576,
          1441,
          1312,
          1189,
          1072,
          961,
          856,
          757,
          664,
          577,
          496,
          421,
          352,
          289,
          232,
          181,
          136,
          97,
          64,
          37,
          16,
          1,
          -8,
          -11,
          -8,
          1,
          16,
          37,
          64,
          97,
          136,
          181,
          232,
          289,
          352,
          421,
          496,
          577,
          664,
          757,
          856,
          961,
          1072,
          1189,
          1312,
          1441,
          1576,
          1717,
          1864,
          2017,
          2176,
          2341,
          2512
         ]
        }
       ],
       "layout": {
        "title": "3x^2 - 11"
       }
      },
      "text/html": [
       "<div id=\"645209d9-cf08-49da-a454-56ab2d8fff96\" style=\"height: 525px; width: 100%;\" class=\"plotly-graph-div\"></div><script type=\"text/javascript\">require([\"plotly\"], function(Plotly) { window.PLOTLYENV=window.PLOTLYENV || {};window.PLOTLYENV.BASE_URL=\"https://plot.ly\";Plotly.newPlot(\"645209d9-cf08-49da-a454-56ab2d8fff96\", [{\"mode\": \"lines\", \"name\": \"data\", \"text\": [], \"x\": [-30, -29, -28, -27, -26, -25, -24, -23, -22, -21, -20, -19, -18, -17, -16, -15, -14, -13, -12, -11, -10, -9, -8, -7, -6, -5, -4, -3, -2, -1, 0, 1, 2, 3, 4, 5, 6, 7, 8, 9, 10, 11, 12, 13, 14, 15, 16, 17, 18, 19, 20, 21, 22, 23, 24, 25, 26, 27, 28, 29], \"y\": [2689, 2512, 2341, 2176, 2017, 1864, 1717, 1576, 1441, 1312, 1189, 1072, 961, 856, 757, 664, 577, 496, 421, 352, 289, 232, 181, 136, 97, 64, 37, 16, 1, -8, -11, -8, 1, 16, 37, 64, 97, 136, 181, 232, 289, 352, 421, 496, 577, 664, 757, 856, 961, 1072, 1189, 1312, 1441, 1576, 1717, 1864, 2017, 2176, 2341, 2512], \"type\": \"scatter\", \"uid\": \"4b6cebd2-d722-11e8-bde9-34159e1c7ef8\"}], {\"title\": \"3x^2 - 11\"}, {\"showLink\": true, \"linkText\": \"Export to plot.ly\"})});</script>"
      ],
      "text/vnd.plotly.v1+html": [
       "<div id=\"645209d9-cf08-49da-a454-56ab2d8fff96\" style=\"height: 525px; width: 100%;\" class=\"plotly-graph-div\"></div><script type=\"text/javascript\">require([\"plotly\"], function(Plotly) { window.PLOTLYENV=window.PLOTLYENV || {};window.PLOTLYENV.BASE_URL=\"https://plot.ly\";Plotly.newPlot(\"645209d9-cf08-49da-a454-56ab2d8fff96\", [{\"mode\": \"lines\", \"name\": \"data\", \"text\": [], \"x\": [-30, -29, -28, -27, -26, -25, -24, -23, -22, -21, -20, -19, -18, -17, -16, -15, -14, -13, -12, -11, -10, -9, -8, -7, -6, -5, -4, -3, -2, -1, 0, 1, 2, 3, 4, 5, 6, 7, 8, 9, 10, 11, 12, 13, 14, 15, 16, 17, 18, 19, 20, 21, 22, 23, 24, 25, 26, 27, 28, 29], \"y\": [2689, 2512, 2341, 2176, 2017, 1864, 1717, 1576, 1441, 1312, 1189, 1072, 961, 856, 757, 664, 577, 496, 421, 352, 289, 232, 181, 136, 97, 64, 37, 16, 1, -8, -11, -8, 1, 16, 37, 64, 97, 136, 181, 232, 289, 352, 421, 496, 577, 664, 757, 856, 961, 1072, 1189, 1312, 1441, 1576, 1717, 1864, 2017, 2176, 2341, 2512], \"type\": \"scatter\", \"uid\": \"4b6cebd2-d722-11e8-bde9-34159e1c7ef8\"}], {\"title\": \"3x^2 - 11\"}, {\"showLink\": true, \"linkText\": \"Export to plot.ly\"})});</script>"
      ]
     },
     "metadata": {},
     "output_type": "display_data"
    }
   ],
   "source": [
    "import plotly\n",
    "from plotly.offline import iplot, init_notebook_mode\n",
    "init_notebook_mode(connected=True)\n",
    "\n",
    "from graph import plot, trace_values\n",
    "\n",
    "x_values = list(range(-30, 30, 1))\n",
    "y_values = list(map(lambda x: output_at(three_x_squared_minus_eleven, x),x_values))\n",
    "\n",
    "three_x_squared_minus_eleven_trace  = trace_values(x_values, y_values, mode = 'lines')\n",
    "plot([three_x_squared_minus_eleven_trace], {'title': '3x^2 - 11'})"
   ]
  },
  {
   "cell_type": "code",
   "execution_count": 85,
   "metadata": {},
   "outputs": [],
   "source": [
    "four_x_plus_fifteen = [(4, 1), (15, 0)]"
   ]
  },
  {
   "cell_type": "code",
   "execution_count": 86,
   "metadata": {},
   "outputs": [
    {
     "data": {
      "text/html": [
       "<script>requirejs.config({paths: { 'plotly': ['https://cdn.plot.ly/plotly-latest.min']},});if(!window.Plotly) {{require(['plotly'],function(plotly) {window.Plotly=plotly;});}}</script>"
      ],
      "text/vnd.plotly.v1+html": [
       "<script>requirejs.config({paths: { 'plotly': ['https://cdn.plot.ly/plotly-latest.min']},});if(!window.Plotly) {{require(['plotly'],function(plotly) {window.Plotly=plotly;});}}</script>"
      ]
     },
     "metadata": {},
     "output_type": "display_data"
    },
    {
     "data": {
      "application/vnd.plotly.v1+json": {
       "data": [
        {
         "mode": "lines",
         "name": "data",
         "text": [],
         "type": "scatter",
         "uid": "4bb4e646-d722-11e8-b3b2-34159e1c7ef8",
         "x": [
          0,
          1,
          2,
          3,
          4,
          5
         ],
         "y": [
          15,
          19,
          23,
          27,
          31,
          35
         ]
        }
       ],
       "layout": {}
      },
      "text/html": [
       "<div id=\"2216cf6c-6cca-43cc-b469-b723c7c1ba08\" style=\"height: 525px; width: 100%;\" class=\"plotly-graph-div\"></div><script type=\"text/javascript\">require([\"plotly\"], function(Plotly) { window.PLOTLYENV=window.PLOTLYENV || {};window.PLOTLYENV.BASE_URL=\"https://plot.ly\";Plotly.newPlot(\"2216cf6c-6cca-43cc-b469-b723c7c1ba08\", [{\"mode\": \"lines\", \"name\": \"data\", \"text\": [], \"x\": [0, 1, 2, 3, 4, 5], \"y\": [15, 19, 23, 27, 31, 35], \"type\": \"scatter\", \"uid\": \"4bbb388c-d722-11e8-ac09-34159e1c7ef8\"}], {}, {\"showLink\": true, \"linkText\": \"Export to plot.ly\"})});</script>"
      ],
      "text/vnd.plotly.v1+html": [
       "<div id=\"2216cf6c-6cca-43cc-b469-b723c7c1ba08\" style=\"height: 525px; width: 100%;\" class=\"plotly-graph-div\"></div><script type=\"text/javascript\">require([\"plotly\"], function(Plotly) { window.PLOTLYENV=window.PLOTLYENV || {};window.PLOTLYENV.BASE_URL=\"https://plot.ly\";Plotly.newPlot(\"2216cf6c-6cca-43cc-b469-b723c7c1ba08\", [{\"mode\": \"lines\", \"name\": \"data\", \"text\": [], \"x\": [0, 1, 2, 3, 4, 5], \"y\": [15, 19, 23, 27, 31, 35], \"type\": \"scatter\", \"uid\": \"4bbb388c-d722-11e8-ac09-34159e1c7ef8\"}], {}, {\"showLink\": true, \"linkText\": \"Export to plot.ly\"})});</script>"
      ]
     },
     "metadata": {},
     "output_type": "display_data"
    }
   ],
   "source": [
    "import plotly\n",
    "from plotly.offline import iplot, init_notebook_mode\n",
    "init_notebook_mode(connected=True)\n",
    "\n",
    "from graph import plot, trace_values, build_layout\n",
    "\n",
    "x_values = list(range(0, 6))\n",
    "#layout = build_layout(y_axis = {'range': [0, 35]})\n",
    "\n",
    "\n",
    "four_x_plus_fifteen_values = list(map(lambda x: output_at(four_x_plus_fifteen, x),x_values))\n",
    "four_x_plus_fifteen_trace = trace_values(x_values, four_x_plus_fifteen_values, mode = 'lines')\n",
    "plot([four_x_plus_fifteen_trace])"
   ]
  },
  {
   "cell_type": "code",
   "execution_count": 87,
   "metadata": {},
   "outputs": [],
   "source": [
    "def delta_f(list_of_terms, x_value, delta_x):\n",
    "    new_x = x_value + delta_x\n",
    "    return output_at(list_of_terms, new_x) - output_at(list_of_terms, x_value)"
   ]
  },
  {
   "cell_type": "code",
   "execution_count": 88,
   "metadata": {},
   "outputs": [
    {
     "data": {
      "text/plain": [
       "4"
      ]
     },
     "execution_count": 88,
     "metadata": {},
     "output_type": "execute_result"
    }
   ],
   "source": [
    "delta_f(four_x_plus_fifteen, 2, 1) # 4"
   ]
  },
  {
   "cell_type": "code",
   "execution_count": 89,
   "metadata": {},
   "outputs": [],
   "source": [
    "def delta_f_trace(list_of_terms, x_value, delta_x):\n",
    "    initial_f_value = output_at(list_of_terms, x_value)\n",
    "    delta_f_value = delta_f(list_of_terms, x_value, delta_x)\n",
    "    if initial_f_value and delta_f_value:\n",
    "        trace =  trace_values(x_values=[x_value + delta_x, x_value + delta_x], \n",
    "                              y_values=[initial_f_value, initial_f_value + delta_f_value], mode = 'lines',\n",
    "                              name = 'delta f = ' + str(delta_f(list_of_terms, x_value, delta_x)))\n",
    "        return trace"
   ]
  },
  {
   "cell_type": "code",
   "execution_count": 90,
   "metadata": {},
   "outputs": [
    {
     "data": {
      "text/plain": [
       "{'x': [3, 3],\n",
       " 'y': [23, 27],\n",
       " 'mode': 'lines',\n",
       " 'name': 'delta f = 4',\n",
       " 'text': []}"
      ]
     },
     "execution_count": 90,
     "metadata": {},
     "output_type": "execute_result"
    }
   ],
   "source": [
    "delta_f_trace(four_x_plus_fifteen, 2, 1)"
   ]
  },
  {
   "cell_type": "code",
   "execution_count": 91,
   "metadata": {},
   "outputs": [],
   "source": [
    "trace_delta_f_four_x_plus_fifteen = delta_f_trace(four_x_plus_fifteen, 2, 1)"
   ]
  },
  {
   "cell_type": "code",
   "execution_count": 92,
   "metadata": {},
   "outputs": [],
   "source": [
    "def delta_x_trace(list_of_terms, x_value, delta_x):\n",
    "    initial_f_value = output_at(list_of_terms, x_value)\n",
    "    if initial_f_value:\n",
    "        trace = trace_values(x_values=[x_value, x_value + delta_x],\n",
    "                            y_values=[initial_f_value, initial_f_value], mode = 'lines', \n",
    "                            name = 'delta x = ' + str(delta_x))\n",
    "        return trace"
   ]
  },
  {
   "cell_type": "code",
   "execution_count": 93,
   "metadata": {},
   "outputs": [
    {
     "data": {
      "text/plain": [
       "{'x': [2, 3],\n",
       " 'y': [23, 23],\n",
       " 'mode': 'lines',\n",
       " 'name': 'delta x = 1',\n",
       " 'text': []}"
      ]
     },
     "execution_count": 93,
     "metadata": {},
     "output_type": "execute_result"
    }
   ],
   "source": [
    "delta_x_trace(four_x_plus_fifteen, 2, 1)"
   ]
  },
  {
   "cell_type": "code",
   "execution_count": 94,
   "metadata": {},
   "outputs": [
    {
     "data": {
      "application/vnd.plotly.v1+json": {
       "data": [
        {
         "mode": "lines",
         "name": "data",
         "text": [],
         "type": "scatter",
         "uid": "4cf84f50-d722-11e8-bb2e-34159e1c7ef8",
         "x": [
          0,
          1,
          2,
          3,
          4,
          5
         ],
         "y": [
          15,
          19,
          23,
          27,
          31,
          35
         ]
        },
        {
         "mode": "lines",
         "name": "delta f = 4",
         "text": [],
         "type": "scatter",
         "uid": "4cf85228-d722-11e8-bb6f-34159e1c7ef8",
         "x": [
          3,
          3
         ],
         "y": [
          23,
          27
         ]
        },
        {
         "mode": "lines",
         "name": "delta x = 1",
         "text": [],
         "type": "scatter",
         "uid": "4cf853e2-d722-11e8-8317-34159e1c7ef8",
         "x": [
          2,
          3
         ],
         "y": [
          23,
          23
         ]
        }
       ],
       "layout": {
        "title": "4x + 15"
       }
      },
      "text/html": [
       "<div id=\"32263fd8-6751-43c9-bcf5-d825f328b9c9\" style=\"height: 525px; width: 100%;\" class=\"plotly-graph-div\"></div><script type=\"text/javascript\">require([\"plotly\"], function(Plotly) { window.PLOTLYENV=window.PLOTLYENV || {};window.PLOTLYENV.BASE_URL=\"https://plot.ly\";Plotly.newPlot(\"32263fd8-6751-43c9-bcf5-d825f328b9c9\", [{\"mode\": \"lines\", \"name\": \"data\", \"text\": [], \"x\": [0, 1, 2, 3, 4, 5], \"y\": [15, 19, 23, 27, 31, 35], \"type\": \"scatter\", \"uid\": \"4d012c42-d722-11e8-a525-34159e1c7ef8\"}, {\"mode\": \"lines\", \"name\": \"delta f = 4\", \"text\": [], \"x\": [3, 3], \"y\": [23, 27], \"type\": \"scatter\", \"uid\": \"4d012f30-d722-11e8-8b43-34159e1c7ef8\"}, {\"mode\": \"lines\", \"name\": \"delta x = 1\", \"text\": [], \"x\": [2, 3], \"y\": [23, 23], \"type\": \"scatter\", \"uid\": \"4d0130e8-d722-11e8-b106-34159e1c7ef8\"}], {\"title\": \"4x + 15\"}, {\"showLink\": true, \"linkText\": \"Export to plot.ly\"})});</script>"
      ],
      "text/vnd.plotly.v1+html": [
       "<div id=\"32263fd8-6751-43c9-bcf5-d825f328b9c9\" style=\"height: 525px; width: 100%;\" class=\"plotly-graph-div\"></div><script type=\"text/javascript\">require([\"plotly\"], function(Plotly) { window.PLOTLYENV=window.PLOTLYENV || {};window.PLOTLYENV.BASE_URL=\"https://plot.ly\";Plotly.newPlot(\"32263fd8-6751-43c9-bcf5-d825f328b9c9\", [{\"mode\": \"lines\", \"name\": \"data\", \"text\": [], \"x\": [0, 1, 2, 3, 4, 5], \"y\": [15, 19, 23, 27, 31, 35], \"type\": \"scatter\", \"uid\": \"4d012c42-d722-11e8-a525-34159e1c7ef8\"}, {\"mode\": \"lines\", \"name\": \"delta f = 4\", \"text\": [], \"x\": [3, 3], \"y\": [23, 27], \"type\": \"scatter\", \"uid\": \"4d012f30-d722-11e8-8b43-34159e1c7ef8\"}, {\"mode\": \"lines\", \"name\": \"delta x = 1\", \"text\": [], \"x\": [2, 3], \"y\": [23, 23], \"type\": \"scatter\", \"uid\": \"4d0130e8-d722-11e8-b106-34159e1c7ef8\"}], {\"title\": \"4x + 15\"}, {\"showLink\": true, \"linkText\": \"Export to plot.ly\"})});</script>"
      ]
     },
     "metadata": {},
     "output_type": "display_data"
    }
   ],
   "source": [
    "from graph import plot, trace_values\n",
    "\n",
    "trace_delta_x_four_x_plus_fifteen = delta_x_trace(four_x_plus_fifteen, 2, 1)\n",
    "if four_x_plus_fifteen_trace and trace_delta_f_four_x_plus_fifteen and trace_delta_x_four_x_plus_fifteen:\n",
    "    plot([four_x_plus_fifteen_trace, trace_delta_f_four_x_plus_fifteen, trace_delta_x_four_x_plus_fifteen], {'title': '4x + 15'})"
   ]
  },
  {
   "cell_type": "code",
   "execution_count": 95,
   "metadata": {},
   "outputs": [],
   "source": [
    "def derivative_of(list_of_terms, x_value, delta_x):\n",
    "    return delta_f(list_of_terms, x_value, delta_x) / delta_x"
   ]
  },
  {
   "cell_type": "code",
   "execution_count": 96,
   "metadata": {},
   "outputs": [
    {
     "data": {
      "text/plain": [
       "4.0"
      ]
     },
     "execution_count": 96,
     "metadata": {},
     "output_type": "execute_result"
    }
   ],
   "source": [
    "derivative_of(four_x_plus_fifteen, 3, 2) # 4.0"
   ]
  },
  {
   "cell_type": "code",
   "execution_count": 97,
   "metadata": {},
   "outputs": [],
   "source": [
    "def derivative_trace(list_of_terms, x_value, line_length = 4, delta_x = .01):\n",
    "    derivative_at = derivative_of(list_of_terms, x_value, delta_x)\n",
    "    y = output_at(list_of_terms, x_value)\n",
    "    if derivative_at and y:\n",
    "        x_minus = x_value - line_length/2\n",
    "        x_plus = x_value + line_length/2\n",
    "        y_minus = y - derivative_at * line_length/2\n",
    "        y_plus = y + derivative_at * line_length/2\n",
    "        return trace_values([x_minus, x_value, x_plus], [y_minus, y, y_plus], name = \"f' (x) = \" + str(derivative_at), mode = 'lines')"
   ]
  },
  {
   "cell_type": "code",
   "execution_count": 98,
   "metadata": {},
   "outputs": [
    {
     "data": {
      "text/plain": [
       "{'x': [0.0, 2, 4.0],\n",
       " 'y': [15.00000000000017, 23, 30.99999999999983],\n",
       " 'mode': 'lines',\n",
       " 'name': \"f' (x) = 3.9999999999999147\",\n",
       " 'text': []}"
      ]
     },
     "execution_count": 98,
     "metadata": {},
     "output_type": "execute_result"
    }
   ],
   "source": [
    "tangent_line_four_x_plus_fifteen = derivative_trace(four_x_plus_fifteen, 2, line_length = 4, delta_x = .01)\n",
    "tangent_line_four_x_plus_fifteen"
   ]
  },
  {
   "cell_type": "code",
   "execution_count": 99,
   "metadata": {},
   "outputs": [],
   "source": [
    "def delta_traces(list_of_terms, x_value, line_length = 4, delta_x = .01):\n",
    "    tangent = derivative_trace(list_of_terms, x_value, line_length, delta_x)\n",
    "    delta_f_line = delta_f_trace(list_of_terms, x_value, delta_x)\n",
    "    delta_x_line = delta_x_trace(list_of_terms, x_value, delta_x)\n",
    "    return [tangent, delta_f_line, delta_x_line]"
   ]
  },
  {
   "cell_type": "code",
   "execution_count": 100,
   "metadata": {},
   "outputs": [
    {
     "data": {
      "text/plain": [
       "[{'x': [0.0, 2, 4.0],\n",
       "  'y': [15.0, 23, 31.0],\n",
       "  'mode': 'lines',\n",
       "  'name': \"f' (x) = 4.0\",\n",
       "  'text': []},\n",
       " {'x': [3, 3],\n",
       "  'y': [23, 27],\n",
       "  'mode': 'lines',\n",
       "  'name': 'delta f = 4',\n",
       "  'text': []},\n",
       " {'x': [2, 3],\n",
       "  'y': [23, 23],\n",
       "  'mode': 'lines',\n",
       "  'name': 'delta x = 1',\n",
       "  'text': []}]"
      ]
     },
     "execution_count": 100,
     "metadata": {},
     "output_type": "execute_result"
    }
   ],
   "source": [
    "delta_traces(four_x_plus_fifteen, 2, line_length = 4, delta_x = 1)"
   ]
  },
  {
   "cell_type": "code",
   "execution_count": 101,
   "metadata": {},
   "outputs": [
    {
     "data": {
      "application/vnd.plotly.v1+json": {
       "data": [
        {
         "mode": "lines",
         "name": "data",
         "text": [],
         "type": "scatter",
         "uid": "4e6bbc28-d722-11e8-8b74-34159e1c7ef8",
         "x": [
          0,
          1,
          2,
          3,
          4,
          5
         ],
         "y": [
          15,
          19,
          23,
          27,
          31,
          35
         ]
        },
        {
         "mode": "lines",
         "name": "f' (x) = 4.0",
         "text": [],
         "type": "scatter",
         "uid": "4e6bbf52-d722-11e8-8323-34159e1c7ef8",
         "x": [
          1,
          2,
          3
         ],
         "y": [
          19,
          23,
          27
         ]
        },
        {
         "mode": "lines",
         "name": "delta f = 4",
         "text": [],
         "type": "scatter",
         "uid": "4e6bc10a-d722-11e8-81b7-34159e1c7ef8",
         "x": [
          3,
          3
         ],
         "y": [
          23,
          27
         ]
        },
        {
         "mode": "lines",
         "name": "delta x = 1",
         "text": [],
         "type": "scatter",
         "uid": "4e6bc2ae-d722-11e8-bc58-34159e1c7ef8",
         "x": [
          2,
          3
         ],
         "y": [
          23,
          23
         ]
        }
       ],
       "layout": {}
      },
      "text/html": [
       "<div id=\"7f61c52e-6c91-4e69-9e75-28e8871e0617\" style=\"height: 525px; width: 100%;\" class=\"plotly-graph-div\"></div><script type=\"text/javascript\">require([\"plotly\"], function(Plotly) { window.PLOTLYENV=window.PLOTLYENV || {};window.PLOTLYENV.BASE_URL=\"https://plot.ly\";Plotly.newPlot(\"7f61c52e-6c91-4e69-9e75-28e8871e0617\", [{\"mode\": \"lines\", \"name\": \"data\", \"text\": [], \"x\": [0, 1, 2, 3, 4, 5], \"y\": [15, 19, 23, 27, 31, 35], \"type\": \"scatter\", \"uid\": \"4e754310-d722-11e8-b727-34159e1c7ef8\"}, {\"mode\": \"lines\", \"name\": \"f' (x) = 4.0\", \"text\": [], \"x\": [1.0, 2, 3.0], \"y\": [19.0, 23, 27.0], \"type\": \"scatter\", \"uid\": \"4e754626-d722-11e8-b109-34159e1c7ef8\"}, {\"mode\": \"lines\", \"name\": \"delta f = 4\", \"text\": [], \"x\": [3, 3], \"y\": [23, 27], \"type\": \"scatter\", \"uid\": \"4e7547de-d722-11e8-ac78-34159e1c7ef8\"}, {\"mode\": \"lines\", \"name\": \"delta x = 1\", \"text\": [], \"x\": [2, 3], \"y\": [23, 23], \"type\": \"scatter\", \"uid\": \"4e754982-d722-11e8-b211-34159e1c7ef8\"}], {}, {\"showLink\": true, \"linkText\": \"Export to plot.ly\"})});</script>"
      ],
      "text/vnd.plotly.v1+html": [
       "<div id=\"7f61c52e-6c91-4e69-9e75-28e8871e0617\" style=\"height: 525px; width: 100%;\" class=\"plotly-graph-div\"></div><script type=\"text/javascript\">require([\"plotly\"], function(Plotly) { window.PLOTLYENV=window.PLOTLYENV || {};window.PLOTLYENV.BASE_URL=\"https://plot.ly\";Plotly.newPlot(\"7f61c52e-6c91-4e69-9e75-28e8871e0617\", [{\"mode\": \"lines\", \"name\": \"data\", \"text\": [], \"x\": [0, 1, 2, 3, 4, 5], \"y\": [15, 19, 23, 27, 31, 35], \"type\": \"scatter\", \"uid\": \"4e754310-d722-11e8-b727-34159e1c7ef8\"}, {\"mode\": \"lines\", \"name\": \"f' (x) = 4.0\", \"text\": [], \"x\": [1.0, 2, 3.0], \"y\": [19.0, 23, 27.0], \"type\": \"scatter\", \"uid\": \"4e754626-d722-11e8-b109-34159e1c7ef8\"}, {\"mode\": \"lines\", \"name\": \"delta f = 4\", \"text\": [], \"x\": [3, 3], \"y\": [23, 27], \"type\": \"scatter\", \"uid\": \"4e7547de-d722-11e8-ac78-34159e1c7ef8\"}, {\"mode\": \"lines\", \"name\": \"delta x = 1\", \"text\": [], \"x\": [2, 3], \"y\": [23, 23], \"type\": \"scatter\", \"uid\": \"4e754982-d722-11e8-b211-34159e1c7ef8\"}], {}, {\"showLink\": true, \"linkText\": \"Export to plot.ly\"})});</script>"
      ]
     },
     "metadata": {},
     "output_type": "display_data"
    }
   ],
   "source": [
    "delta_x = 1\n",
    "\n",
    "# derivative_traces(list_of_terms, x_value, line_length = 4, delta_x = .01)\n",
    "\n",
    "three_x_plus_tangents = delta_traces(four_x_plus_fifteen, 2, line_length= 2*1, delta_x = delta_x)\n",
    "\n",
    "# only plot the list of traces, if three_x_plus_tangents, does not look like [None, None, None]\n",
    "if list(filter(None.__ne__, three_x_plus_tangents)):\n",
    "    plot([four_x_plus_fifteen_trace, *three_x_plus_tangents])"
   ]
  },
  {
   "cell_type": "code",
   "execution_count": 103,
   "metadata": {},
   "outputs": [],
   "source": [
    "def make_subplots(one_one_traces = [], one_two_traces = [], two_one_traces = [], two_two_traces = []):\n",
    "    if two_one_traces or two_two_traces:\n",
    "        fig = tools.make_subplots(rows=2, cols=2)\n",
    "    else:\n",
    "        fig = tools.make_subplots(rows=1, cols=2)\n",
    "    for trace in one_one_traces:\n",
    "        fig.append_trace(trace, 1, 1)\n",
    "    for trace in one_two_traces:\n",
    "        fig.append_trace(trace, 1, 2)\n",
    "    for trace in two_one_traces:\n",
    "        fig.append_trace(trace, 1, 1)\n",
    "    for trace in two_two_traces:\n",
    "        fig.append_trace(trace, 1, 2)\n",
    "    return fig\n"
   ]
  },
  {
   "cell_type": "code",
   "execution_count": 106,
   "metadata": {},
   "outputs": [],
   "source": [
    "def plot_figure(figure):\n",
    "    plotly.offline.iplot(figure)"
   ]
  },
  {
   "cell_type": "code",
   "execution_count": 107,
   "metadata": {},
   "outputs": [],
   "source": [
    "def trace_values(x_values, y_values, mode = 'markers', name=\"data\", text = []):\n",
    "    return {'x': x_values, 'y': y_values, 'mode': mode, 'name': name, 'text': text}"
   ]
  },
  {
   "cell_type": "code",
   "execution_count": 109,
   "metadata": {},
   "outputs": [
    {
     "ename": "NameError",
     "evalue": "name 'tools' is not defined",
     "output_type": "error",
     "traceback": [
      "\u001b[0;31m---------------------------------------------------------------------------\u001b[0m",
      "\u001b[0;31mNameError\u001b[0m                                 Traceback (most recent call last)",
      "\u001b[0;32m<ipython-input-109-fbcad50db2b9>\u001b[0m in \u001b[0;36m<module>\u001b[0;34m()\u001b[0m\n\u001b[1;32m     12\u001b[0m     \u001b[0;32mreturn\u001b[0m \u001b[0mmake_subplots\u001b[0m\u001b[0;34m(\u001b[0m\u001b[0;34m[\u001b[0m\u001b[0mtraced_function\u001b[0m\u001b[0;34m]\u001b[0m\u001b[0;34m,\u001b[0m \u001b[0;34m[\u001b[0m\u001b[0mtraced_derivative\u001b[0m\u001b[0;34m]\u001b[0m\u001b[0;34m)\u001b[0m\u001b[0;34m\u001b[0m\u001b[0m\n\u001b[1;32m     13\u001b[0m \u001b[0;34m\u001b[0m\u001b[0m\n\u001b[0;32m---> 14\u001b[0;31m \u001b[0mfour_x_plus_fifteen_function_and_derivative\u001b[0m \u001b[0;34m=\u001b[0m \u001b[0mfunction_and_derivative_trace\u001b[0m\u001b[0;34m(\u001b[0m\u001b[0mfour_x_plus_fifteen\u001b[0m\u001b[0;34m,\u001b[0m \u001b[0mlist\u001b[0m\u001b[0;34m(\u001b[0m\u001b[0mrange\u001b[0m\u001b[0;34m(\u001b[0m\u001b[0;36m0\u001b[0m\u001b[0;34m,\u001b[0m \u001b[0;36m7\u001b[0m\u001b[0;34m)\u001b[0m\u001b[0;34m)\u001b[0m\u001b[0;34m,\u001b[0m \u001b[0;36m1\u001b[0m\u001b[0;34m)\u001b[0m\u001b[0;34m\u001b[0m\u001b[0m\n\u001b[0m\u001b[1;32m     15\u001b[0m \u001b[0;34m\u001b[0m\u001b[0m\n\u001b[1;32m     16\u001b[0m \u001b[0mplot_figure\u001b[0m\u001b[0;34m(\u001b[0m\u001b[0mfour_x_plus_fifteen_function_and_derivative\u001b[0m\u001b[0;34m)\u001b[0m\u001b[0;34m\u001b[0m\u001b[0m\n",
      "\u001b[0;32m<ipython-input-109-fbcad50db2b9>\u001b[0m in \u001b[0;36mfunction_and_derivative_trace\u001b[0;34m(list_of_terms, x_values, delta_x)\u001b[0m\n\u001b[1;32m     10\u001b[0m     \u001b[0mtraced_function\u001b[0m \u001b[0;34m=\u001b[0m \u001b[0mfunction_values_trace\u001b[0m\u001b[0;34m(\u001b[0m\u001b[0mlist_of_terms\u001b[0m\u001b[0;34m,\u001b[0m \u001b[0mx_values\u001b[0m\u001b[0;34m)\u001b[0m\u001b[0;34m\u001b[0m\u001b[0m\n\u001b[1;32m     11\u001b[0m     \u001b[0mtraced_derivative\u001b[0m \u001b[0;34m=\u001b[0m \u001b[0mderivative_values_trace\u001b[0m\u001b[0;34m(\u001b[0m\u001b[0mlist_of_terms\u001b[0m\u001b[0;34m,\u001b[0m \u001b[0mx_values\u001b[0m\u001b[0;34m,\u001b[0m \u001b[0mdelta_x\u001b[0m\u001b[0;34m)\u001b[0m\u001b[0;34m\u001b[0m\u001b[0m\n\u001b[0;32m---> 12\u001b[0;31m     \u001b[0;32mreturn\u001b[0m \u001b[0mmake_subplots\u001b[0m\u001b[0;34m(\u001b[0m\u001b[0;34m[\u001b[0m\u001b[0mtraced_function\u001b[0m\u001b[0;34m]\u001b[0m\u001b[0;34m,\u001b[0m \u001b[0;34m[\u001b[0m\u001b[0mtraced_derivative\u001b[0m\u001b[0;34m]\u001b[0m\u001b[0;34m)\u001b[0m\u001b[0;34m\u001b[0m\u001b[0m\n\u001b[0m\u001b[1;32m     13\u001b[0m \u001b[0;34m\u001b[0m\u001b[0m\n\u001b[1;32m     14\u001b[0m \u001b[0mfour_x_plus_fifteen_function_and_derivative\u001b[0m \u001b[0;34m=\u001b[0m \u001b[0mfunction_and_derivative_trace\u001b[0m\u001b[0;34m(\u001b[0m\u001b[0mfour_x_plus_fifteen\u001b[0m\u001b[0;34m,\u001b[0m \u001b[0mlist\u001b[0m\u001b[0;34m(\u001b[0m\u001b[0mrange\u001b[0m\u001b[0;34m(\u001b[0m\u001b[0;36m0\u001b[0m\u001b[0;34m,\u001b[0m \u001b[0;36m7\u001b[0m\u001b[0;34m)\u001b[0m\u001b[0;34m)\u001b[0m\u001b[0;34m,\u001b[0m \u001b[0;36m1\u001b[0m\u001b[0;34m)\u001b[0m\u001b[0;34m\u001b[0m\u001b[0m\n",
      "\u001b[0;32m<ipython-input-103-d809c65ad45a>\u001b[0m in \u001b[0;36mmake_subplots\u001b[0;34m(one_one_traces, one_two_traces, two_one_traces, two_two_traces)\u001b[0m\n\u001b[1;32m      3\u001b[0m         \u001b[0mfig\u001b[0m \u001b[0;34m=\u001b[0m \u001b[0mtools\u001b[0m\u001b[0;34m.\u001b[0m\u001b[0mmake_subplots\u001b[0m\u001b[0;34m(\u001b[0m\u001b[0mrows\u001b[0m\u001b[0;34m=\u001b[0m\u001b[0;36m2\u001b[0m\u001b[0;34m,\u001b[0m \u001b[0mcols\u001b[0m\u001b[0;34m=\u001b[0m\u001b[0;36m2\u001b[0m\u001b[0;34m)\u001b[0m\u001b[0;34m\u001b[0m\u001b[0m\n\u001b[1;32m      4\u001b[0m     \u001b[0;32melse\u001b[0m\u001b[0;34m:\u001b[0m\u001b[0;34m\u001b[0m\u001b[0m\n\u001b[0;32m----> 5\u001b[0;31m         \u001b[0mfig\u001b[0m \u001b[0;34m=\u001b[0m \u001b[0mtools\u001b[0m\u001b[0;34m.\u001b[0m\u001b[0mmake_subplots\u001b[0m\u001b[0;34m(\u001b[0m\u001b[0mrows\u001b[0m\u001b[0;34m=\u001b[0m\u001b[0;36m1\u001b[0m\u001b[0;34m,\u001b[0m \u001b[0mcols\u001b[0m\u001b[0;34m=\u001b[0m\u001b[0;36m2\u001b[0m\u001b[0;34m)\u001b[0m\u001b[0;34m\u001b[0m\u001b[0m\n\u001b[0m\u001b[1;32m      6\u001b[0m     \u001b[0;32mfor\u001b[0m \u001b[0mtrace\u001b[0m \u001b[0;32min\u001b[0m \u001b[0mone_one_traces\u001b[0m\u001b[0;34m:\u001b[0m\u001b[0;34m\u001b[0m\u001b[0m\n\u001b[1;32m      7\u001b[0m         \u001b[0mfig\u001b[0m\u001b[0;34m.\u001b[0m\u001b[0mappend_trace\u001b[0m\u001b[0;34m(\u001b[0m\u001b[0mtrace\u001b[0m\u001b[0;34m,\u001b[0m \u001b[0;36m1\u001b[0m\u001b[0;34m,\u001b[0m \u001b[0;36m1\u001b[0m\u001b[0;34m)\u001b[0m\u001b[0;34m\u001b[0m\u001b[0m\n",
      "\u001b[0;31mNameError\u001b[0m: name 'tools' is not defined"
     ]
    }
   ],
   "source": [
    "#THIS PROVIDED CODE DOES NOT WORK https://learn.co/tracks/data-science-bootcamp-prep/calculus-for-data-science/derivatives/introduction-to-derivatives-lab?batch_id=637&track_id=32269\n",
    "def function_values_trace(list_of_terms, x_values):\n",
    "    function_values = list(map(lambda x: output_at(list_of_terms, x),x_values))\n",
    "    return trace_values(x_values, function_values, mode = 'lines')\n",
    "    \n",
    "def derivative_values_trace(list_of_terms, x_values, delta_x):\n",
    "    derivative_values = list(map(lambda x: derivative_of(list_of_terms, x, delta_x), x_values))\n",
    "    return trace_values(x_values, derivative_values, mode = 'lines')\n",
    "\n",
    "def function_and_derivative_trace(list_of_terms, x_values, delta_x):\n",
    "    traced_function = function_values_trace(list_of_terms, x_values)\n",
    "    traced_derivative = derivative_values_trace(list_of_terms, x_values, delta_x)\n",
    "    return make_subplots([traced_function], [traced_derivative])\n",
    "\n",
    "four_x_plus_fifteen_function_and_derivative = function_and_derivative_trace(four_x_plus_fifteen, list(range(0, 7)), 1)\n",
    "\n",
    "plot_figure(four_x_plus_fifteen_function_and_derivative)"
   ]
  }
 ],
 "metadata": {
  "kernelspec": {
   "display_name": "Python 3",
   "language": "python",
   "name": "python3"
  },
  "language_info": {
   "codemirror_mode": {
    "name": "ipython",
    "version": 3
   },
   "file_extension": ".py",
   "mimetype": "text/x-python",
   "name": "python",
   "nbconvert_exporter": "python",
   "pygments_lexer": "ipython3",
   "version": "3.6.5"
  }
 },
 "nbformat": 4,
 "nbformat_minor": 2
}
